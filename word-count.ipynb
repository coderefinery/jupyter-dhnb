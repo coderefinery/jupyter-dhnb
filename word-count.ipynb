{
 "cells": [
  {
   "cell_type": "markdown",
   "id": "4a208376-681a-4e2c-8a76-6532ecf90576",
   "metadata": {},
   "source": [
    "# Word count example\n",
    "\n",
    "In this episode we will together build up a first Jupyter notebook and we will\n",
    "try to create a computational narrative consisting of code, documentation,\n",
    "equations, and a plot. At the same time we will introduce some Python concepts,\n",
    "just enough to be able to adapt Python code written by somebody else.\n",
    "\n",
    "We will prepare some building blocks which will help us to progress to more\n",
    "advanced lessons such as [Analyzing Documents with\n",
    "TF-IDF](https://programminghistorian.org/en/lessons/analyzing-documents-with-tfidf)\n",
    "of the [Programming Historian](https://programminghistorian.org) lesson suite."
   ]
  },
  {
   "cell_type": "markdown",
   "id": "c9e4a453-fee9-4352-98cb-9b56dbc26d8e",
   "metadata": {},
   "source": [
    "## Relevant formulas\n",
    "\n",
    "- inverse document frequency: $\\text{idf}_i = \\ln [ (N + 1)/\\text{df}_i ] + 1$\n",
    "\n",
    "This is for a later episode and just as an example that it can be done.\n",
    "At this stage it does not matter what this formula means."
   ]
  },
  {
   "cell_type": "markdown",
   "id": "85ff3c63-85e0-4c7f-8136-3d6298792c12",
   "metadata": {},
   "source": [
    "## Basic types in Python\n",
    "\n",
    "- Python is **dynamically typed**:\n",
    "  We do not have to define that an integer is an {py:class}`int`, we can use it this way\n",
    "  and Python will infer it\n",
    "- However, one can use [type annotations](https://docs.python.org/3/library/typing.html) in Python\n",
    "  (see also [mypy](http://mypy-lang.org/))\n",
    "- Now you also know that we can add `# comments` to our code"
   ]
  },
  {
   "cell_type": "code",
   "execution_count": 1,
   "id": "36ef3d44-b33d-4642-9ead-f9fd0a614711",
   "metadata": {},
   "outputs": [
    {
     "name": "stdout",
     "output_type": "stream",
     "text": [
      "Bruce Wayne\n",
      "65\n",
      "0.75\n"
     ]
    }
   ],
   "source": [
    "# int\n",
    "num_measurements = 13\n",
    "\n",
    "# float\n",
    "some_fraction = 0.25\n",
    "\n",
    "# string\n",
    "name = \"Bruce Wayne\"\n",
    "\n",
    "# bool\n",
    "value_is_missing = False\n",
    "skip_verification = True\n",
    "\n",
    "# we can print values\n",
    "print(name)\n",
    "\n",
    "# and we can do arithmetics with ints and floats\n",
    "print(5 * num_measurements)\n",
    "print(1.0 - some_fraction)"
   ]
  },
  {
   "cell_type": "markdown",
   "id": "0a6a207d-c1cb-4673-8ca4-4050a6f9e071",
   "metadata": {},
   "source": [
    "## Data structures for collections: lists and dictionaries\n",
    "\n",
    "Lists and dictionaries are the most used.\n",
    "There are also sets and tuples but that is for another day."
   ]
  },
  {
   "cell_type": "code",
   "execution_count": 2,
   "id": "99751eef-fb67-4847-b7a3-b5506746e349",
   "metadata": {},
   "outputs": [
    {
     "name": "stdout",
     "output_type": "stream",
     "text": [
      "first element is: 13\n",
      "before sorting: [13, 5, 2, 3, 4, 3, 4]\n",
      "after sorting: [2, 3, 3, 4, 4, 5, 13]\n"
     ]
    }
   ],
   "source": [
    "# lists are good when order is important\n",
    "scores = [13, 5, 2, 3, 4, 3]\n",
    "\n",
    "# first element\n",
    "print(\"first element is:\", scores[0])\n",
    "\n",
    "# we can add items to lists\n",
    "scores.append(4)\n",
    "\n",
    "# lists can be sorted\n",
    "print(\"before sorting:\", scores)\n",
    "scores.sort()\n",
    "print(\"after sorting:\", scores)"
   ]
  },
  {
   "cell_type": "code",
   "execution_count": 3,
   "id": "81ba3f10-e02f-4566-8a54-1ff10bb70e00",
   "metadata": {},
   "outputs": [
    {
     "name": "stdout",
     "output_type": "stream",
     "text": [
      "15\n",
      "{'the': 21, 'of': 16, 'her': 15, 'she': 10, 'and': 13}\n",
      "yes, the dictionary 'word_count' contains the key 'and'\n"
     ]
    }
   ],
   "source": [
    "# dictionaries are useful if you want to look up\n",
    "# elements in a collection by something else than position\n",
    "word_count = {\"the\": 21, \"of\": 16, \"her\": 15, \"she\": 10}\n",
    "\n",
    "print(word_count[\"her\"])\n",
    "\n",
    "# we can add items to dictionaries\n",
    "word_count[\"and\"] = 13\n",
    "print(word_count)\n",
    "\n",
    "if \"and\" in word_count:\n",
    "    print(\"yes, the dictionary 'word_count' contains the key 'and'\")\n",
    "else:\n",
    "    print(\"no, it doesn't\")"
   ]
  },
  {
   "cell_type": "markdown",
   "id": "190a5ac4-134b-4802-9068-73a727877e11",
   "metadata": {},
   "source": [
    "## Iterating over collections in Python"
   ]
  },
  {
   "cell_type": "code",
   "execution_count": 4,
   "id": "f85ab4c3-09b1-4661-aecd-af5b41f753f1",
   "metadata": {},
   "outputs": [
    {
     "name": "stdout",
     "output_type": "stream",
     "text": [
      "13\n",
      "5\n",
      "2\n",
      "3\n",
      "4\n",
      "3\n",
      "the score is 13\n",
      "the score is 5\n",
      "the score is 2\n",
      "the score is 3\n",
      "the score is 4\n",
      "the score is 3\n",
      "13\n",
      "5\n",
      "2\n",
      "3\n",
      "4\n",
      "3\n"
     ]
    }
   ],
   "source": [
    "scores = [13, 5, 2, 3, 4, 3]\n",
    "\n",
    "# iterating over a list\n",
    "for score in scores:\n",
    "    print(score)\n",
    "\n",
    "# example with f-strings\n",
    "for score in scores:\n",
    "    print(f\"the score is {score}\")\n",
    "\n",
    "# we don't have to call the variable inside the for-loop \"score\". this is up to us.\n",
    "# we can do this instead\n",
    "for x in scores:\n",
    "    print(x)"
   ]
  },
  {
   "cell_type": "code",
   "execution_count": 5,
   "id": "e2618db7-236f-4151-84df-dac807656fbd",
   "metadata": {},
   "outputs": [
    {
     "name": "stdout",
     "output_type": "stream",
     "text": [
      "21\n",
      "16\n",
      "15\n",
      "10\n",
      "the 21\n",
      "of 16\n",
      "her 15\n",
      "she 10\n",
      "the 21\n",
      "of 16\n",
      "her 15\n",
      "she 10\n"
     ]
    }
   ],
   "source": [
    "word_count = {\"the\": 21, \"of\": 16, \"her\": 15, \"she\": 10}\n",
    "\n",
    "# iterating over a dictionary\n",
    "for key in word_count:\n",
    "    print(word_count[key])\n",
    "\n",
    "# another way to iterate\n",
    "for (key, value) in word_count.items():\n",
    "    print(key, value)\n",
    "\n",
    "# and we can give them different names\n",
    "for (word, count) in word_count.items():\n",
    "    print(word, count)"
   ]
  },
  {
   "cell_type": "markdown",
   "id": "952d8b2a-0f55-45b2-bdf4-78a932cd6e0b",
   "metadata": {},
   "source": [
    "## Functions are like reusable recipes\n",
    "\n",
    "They receive ingredients (input arguments), then inside the function we do/compute something with these arguments, and they return a result.\n",
    "\n",
    "Note the indentation which tells Python where the function starts and where it ends."
   ]
  },
  {
   "cell_type": "code",
   "execution_count": 6,
   "id": "5eb50803-9596-4617-9847-71fef3da6dc9",
   "metadata": {},
   "outputs": [
    {
     "name": "stdout",
     "output_type": "stream",
     "text": [
      "3\n",
      "9\n"
     ]
    }
   ],
   "source": [
    "# here we define a function\n",
    "def number_of_words(text: str) -> int:\n",
    "    \"\"\"\n",
    "    Here we can describe the function:\n",
    "    This function counts the number of words in text.\n",
    "    \"\"\"\n",
    "    words = text.split()\n",
    "    count = len(words)\n",
    "    return count\n",
    "\n",
    "\n",
    "# and later we can call the function\n",
    "result = number_of_words(\"some example text\")\n",
    "print(result)\n",
    "\n",
    "another_result = number_of_words(\"oh wow, too many new things to learn here\")\n",
    "print(another_result)"
   ]
  },
  {
   "cell_type": "markdown",
   "id": "40147bbf-a3f9-4e66-bb56-1229a8bd89cf",
   "metadata": {},
   "source": [
    "Let’s create another function, one that can read from a file:"
   ]
  },
  {
   "cell_type": "code",
   "execution_count": 7,
   "id": "b84cb3b1-2049-4a84-b275-94844ad9003f",
   "metadata": {},
   "outputs": [],
   "source": [
    "# here we import a functionality from another Python module/package\n",
    "from collections import Counter\n",
    "\n",
    "\n",
    "def get_most_common(file_name: str, num_words: int) -> dict[str, int]:\n",
    "    \"\"\"\n",
    "    Reads a file and returns a dictionary of num_words most common word counts.\n",
    "    \"\"\"\n",
    "    with open(file_name, \"r\") as f:\n",
    "        words = f.read().split()\n",
    "        lowercase_words = [w.lower() for w in words]\n",
    "        word_count = dict(Counter(lowercase_words).most_common(num_words))\n",
    "    return word_count"
   ]
  },
  {
   "cell_type": "code",
   "execution_count": 8,
   "id": "32f9d7dc-4bec-44e6-bce3-29a826280eed",
   "metadata": {},
   "outputs": [
    {
     "name": "stdout",
     "output_type": "stream",
     "text": [
      "{'the': 59, 'of': 44, 'a': 22, 'and': 17, 'in': 14, 'to': 13, 'no': 11, 'as': 11, 'by': 9, 'that': 8}\n"
     ]
    }
   ],
   "source": [
    "# book.txt is an except from \"All Around the Moon\" by Jules Verne (public domain)\n",
    "word_count = get_most_common(file_name=\"data/book.txt\", num_words=10)\n",
    "print(word_count)"
   ]
  },
  {
   "cell_type": "markdown",
   "id": "51cb8113-d8f8-4738-bb6d-13d55af36831",
   "metadata": {},
   "source": [
    "## Plotting the result"
   ]
  },
  {
   "cell_type": "code",
   "execution_count": 9,
   "id": "bf4d7244-87d7-4125-8b28-61a249d594fa",
   "metadata": {},
   "outputs": [
    {
     "data": {
      "image/png": "[encoded data removed]",
      "text/plain": [
       "<Figure size 600x400 with 1 Axes>"
      ]
     },
     "metadata": {},
     "output_type": "display_data"
    }
   ],
   "source": [
    "import matplotlib.pyplot as plt\n",
    "plt.style.use('seaborn-whitegrid')\n",
    "\n",
    "\n",
    "def plot_histogram(data, x_label, y_label):\n",
    "    fig, ax = plt.subplots()\n",
    "    fig.set_dpi(100)\n",
    "    \n",
    "    ax.bar(data.keys(), data.values(), facecolor=\"#2ab0ff\", edgecolor=\"gray\")\n",
    "\n",
    "    ax.set_xlabel(x_label)\n",
    "    ax.set_ylabel(y_label)\n",
    "\n",
    "\n",
    "plot_histogram(word_count, \"word\", \"count\")"
   ]
  },
  {
   "cell_type": "markdown",
   "id": "c00f1aa4-eaba-4159-a4bd-091fa50a75d6",
   "metadata": {},
   "source": [
    "## Discussion\n",
    "\n",
    "What do we get from this?\n",
    "\n",
    "- With code separate from everything else, you might just send one\n",
    "  number or a plot to your supervisor/collaborator for checking.\n",
    "- With a notebook as a narratives, you send everything in a **consistent\n",
    "  story**.\n",
    "- A reader may still just read the introduction and conclusion, but\n",
    "  they can easily see more - *and try changes themselves* - if they\n",
    "  want.\n",
    "\n",
    "Where should we add comments?\n",
    "\n",
    "- We can comment code either in **Markdown cells** or in the code cell as **code comments**.\n",
    "\n",
    "- What advantages do you see of commenting in Markdown cells and what advantages\n",
    "  can you list for writing code comments in code cells?"
   ]
  },
  {
   "cell_type": "markdown",
   "id": "0b018f6a-0991-4805-b34a-bc734939ec73",
   "metadata": {},
   "source": [
    "## Reading error messages\n",
    "\n",
    "- Instructor will introduce an error and we will together inspect it and learn how to \"read\" it."
   ]
  },
  {
   "cell_type": "markdown",
   "id": "021899b2-d5d9-4bdd-a77c-c3207b40d2fb",
   "metadata": {},
   "source": [
    "## Recommendations\n",
    "\n",
    "- Order of execution matters. Use \"Run All Cells\" before saving or sharing your notebook with others.\n",
    "- To demonstrate this, the instructor can define a different `word_count` dictionary at the end of the notebook, run that cell, then run only the plotting cell."
   ]
  }
 ],
 "metadata": {
  "kernelspec": {
   "display_name": "Python 3 (ipykernel)",
   "language": "python",
   "name": "python3"
  },
  "language_info": {
   "codemirror_mode": {
    "name": "ipython",
    "version": 3
   },
   "file_extension": ".py",
   "mimetype": "text/x-python",
   "name": "python",
   "nbconvert_exporter": "python",
   "pygments_lexer": "ipython3",
   "version": "3.9.6"
  }
 },
 "nbformat": 4,
 "nbformat_minor": 5
}
